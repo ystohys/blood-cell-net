{
 "cells": [
  {
   "cell_type": "markdown",
   "id": "22efb04e-cb43-4bca-9ac9-bc40915e4f8e",
   "metadata": {},
   "source": [
    "### Data"
   ]
  },
  {
   "cell_type": "code",
   "execution_count": null,
   "id": "13f375f8-145d-4d1c-96b3-007d74ef19ad",
   "metadata": {},
   "outputs": [],
   "source": [
    "import numpy as np\n",
    "import pandas as pd\n",
    "import data_utils\n",
    "import img_utils"
   ]
  },
  {
   "cell_type": "markdown",
   "id": "7008f50a-d7cb-4185-9293-72aa7e2ff62d",
   "metadata": {},
   "source": [
    "Reading in 'annotations.csv' and checking for duplicates, followed by dropping them:"
   ]
  },
  {
   "cell_type": "code",
   "execution_count": null,
   "id": "33b017e5-322c-42fe-b5f4-39f1f705f1ee",
   "metadata": {},
   "outputs": [],
   "source": [
    "anno_df = pd.read_csv('data/annotations.csv')\n",
    "dup_df = data_utils.get_duplicates(anno_df)\n",
    "to_drop=[dup_df.loc[(dup_df['image']=='image-1.png') & (dup_df['label']=='rbc'),:].index[0]]\n",
    "to_drop.append(dup_df.loc[(dup_df['image']=='image-100.png') & (dup_df['label']=='wbc'),:].index[0])\n",
    "to_drop.append(dup_df.loc[(dup_df['image']=='image-104.png') & (dup_df['label']=='wbc'),:].index[0])\n",
    "to_drop.append(dup_df.loc[(dup_df['image']=='image-114.png') & (dup_df['label']=='wbc'),:].index[0])\n",
    "clean_anno_df = anno_df.drop(to_drop)\n",
    "clean_anno_df['label'] = np.where(clean_anno_df['label']=='rbc', 1, 2)\n",
    "clean_anno_df.to_csv('data/clean_anno.csv', index=False)"
   ]
  },
  {
   "cell_type": "markdown",
   "id": "94ffc88b-4156-4328-94f7-61485ee57c71",
   "metadata": {},
   "source": [
    "Visualizing the distribution of RBCs to WBCs across all the images"
   ]
  },
  {
   "cell_type": "code",
   "execution_count": null,
   "id": "72571912-cfed-4ba3-ad2c-7a06ff693f2b",
   "metadata": {},
   "outputs": [],
   "source": [
    "import numpy as np\n",
    "import matplotlib.pyplot as plt\n",
    "\n",
    "data_utils.get_class_distribution('data/clean_anno.csv', ['image','label'])"
   ]
  },
  {
   "cell_type": "code",
   "execution_count": 1,
   "id": "80296376-7dcd-4c77-92e8-2e960d88452f",
   "metadata": {},
   "outputs": [
    {
     "ename": "ModuleNotFoundError",
     "evalue": "No module named 'pycocotools'",
     "output_type": "error",
     "traceback": [
      "\u001b[0;31m---------------------------------------------------------------------------\u001b[0m",
      "\u001b[0;31mModuleNotFoundError\u001b[0m                       Traceback (most recent call last)",
      "Input \u001b[0;32mIn [1]\u001b[0m, in \u001b[0;36m<cell line: 3>\u001b[0;34m()\u001b[0m\n\u001b[1;32m      1\u001b[0m \u001b[38;5;28;01mfrom\u001b[39;00m \u001b[38;5;21;01msklearn\u001b[39;00m\u001b[38;5;21;01m.\u001b[39;00m\u001b[38;5;21;01mmodel_selection\u001b[39;00m \u001b[38;5;28;01mimport\u001b[39;00m train_test_split\n\u001b[1;32m      2\u001b[0m \u001b[38;5;28;01mfrom\u001b[39;00m \u001b[38;5;21;01mbcnet\u001b[39;00m \u001b[38;5;28;01mimport\u001b[39;00m get_bcnet\n\u001b[0;32m----> 3\u001b[0m \u001b[38;5;28;01mfrom\u001b[39;00m \u001b[38;5;21;01mtrain_eval_utils\u001b[39;00m \u001b[38;5;28;01mimport\u001b[39;00m hocv_model\n\u001b[1;32m      5\u001b[0m train_indices, test_indices \u001b[38;5;241m=\u001b[39m train_test_split(\u001b[38;5;28mrange\u001b[39m(\u001b[38;5;241m100\u001b[39m), test_size\u001b[38;5;241m=\u001b[39m\u001b[38;5;241m0.2\u001b[39m, random_state\u001b[38;5;241m=\u001b[39m\u001b[38;5;241m42\u001b[39m)\n",
      "File \u001b[0;32m~/Desktop/Python Projects/BloodCellDetect/train_eval_utils.py:4\u001b[0m, in \u001b[0;36m<module>\u001b[0;34m\u001b[0m\n\u001b[1;32m      2\u001b[0m \u001b[38;5;28;01mimport\u001b[39;00m \u001b[38;5;21;01mtorch\u001b[39;00m\n\u001b[1;32m      3\u001b[0m \u001b[38;5;28;01mfrom\u001b[39;00m \u001b[38;5;21;01mtorch\u001b[39;00m\u001b[38;5;21;01m.\u001b[39;00m\u001b[38;5;21;01mutils\u001b[39;00m\u001b[38;5;21;01m.\u001b[39;00m\u001b[38;5;21;01mdata\u001b[39;00m \u001b[38;5;28;01mimport\u001b[39;00m SubsetRandomSampler, DataLoader\n\u001b[0;32m----> 4\u001b[0m \u001b[38;5;28;01mfrom\u001b[39;00m \u001b[38;5;21;01mengine\u001b[39;00m \u001b[38;5;28;01mimport\u001b[39;00m train_one_epoch, evaluate\n\u001b[1;32m      5\u001b[0m \u001b[38;5;28;01mimport\u001b[39;00m \u001b[38;5;21;01mutils\u001b[39;00m\n\u001b[1;32m      6\u001b[0m \u001b[38;5;28;01mfrom\u001b[39;00m \u001b[38;5;21;01mdata_utils\u001b[39;00m \u001b[38;5;28;01mimport\u001b[39;00m BloodCellDataset\n",
      "File \u001b[0;32m~/Desktop/Python Projects/BloodCellDetect/engine.py:8\u001b[0m, in \u001b[0;36m<module>\u001b[0;34m\u001b[0m\n\u001b[1;32m      6\u001b[0m \u001b[38;5;28;01mimport\u001b[39;00m \u001b[38;5;21;01mtorchvision\u001b[39;00m\u001b[38;5;21;01m.\u001b[39;00m\u001b[38;5;21;01mmodels\u001b[39;00m\u001b[38;5;21;01m.\u001b[39;00m\u001b[38;5;21;01mdetection\u001b[39;00m\u001b[38;5;21;01m.\u001b[39;00m\u001b[38;5;21;01mmask_rcnn\u001b[39;00m\n\u001b[1;32m      7\u001b[0m \u001b[38;5;28;01mimport\u001b[39;00m \u001b[38;5;21;01mutils\u001b[39;00m\n\u001b[0;32m----> 8\u001b[0m \u001b[38;5;28;01mfrom\u001b[39;00m \u001b[38;5;21;01mcoco_eval\u001b[39;00m \u001b[38;5;28;01mimport\u001b[39;00m CocoEvaluator\n\u001b[1;32m      9\u001b[0m \u001b[38;5;28;01mfrom\u001b[39;00m \u001b[38;5;21;01mcoco_utils\u001b[39;00m \u001b[38;5;28;01mimport\u001b[39;00m get_coco_api_from_dataset\n\u001b[1;32m     12\u001b[0m \u001b[38;5;28;01mdef\u001b[39;00m \u001b[38;5;21mtrain_one_epoch\u001b[39m(model, optimizer, data_loader, device, epoch, print_freq, scaler\u001b[38;5;241m=\u001b[39m\u001b[38;5;28;01mNone\u001b[39;00m):\n",
      "File \u001b[0;32m~/Desktop/Python Projects/BloodCellDetect/coco_eval.py:6\u001b[0m, in \u001b[0;36m<module>\u001b[0;34m\u001b[0m\n\u001b[1;32m      3\u001b[0m \u001b[38;5;28;01mfrom\u001b[39;00m \u001b[38;5;21;01mcontextlib\u001b[39;00m \u001b[38;5;28;01mimport\u001b[39;00m redirect_stdout\n\u001b[1;32m      5\u001b[0m \u001b[38;5;28;01mimport\u001b[39;00m \u001b[38;5;21;01mnumpy\u001b[39;00m \u001b[38;5;28;01mas\u001b[39;00m \u001b[38;5;21;01mnp\u001b[39;00m\n\u001b[0;32m----> 6\u001b[0m \u001b[38;5;28;01mimport\u001b[39;00m \u001b[38;5;21;01mpycocotools\u001b[39;00m\u001b[38;5;21;01m.\u001b[39;00m\u001b[38;5;21;01mmask\u001b[39;00m \u001b[38;5;28;01mas\u001b[39;00m \u001b[38;5;21;01mmask_util\u001b[39;00m\n\u001b[1;32m      7\u001b[0m \u001b[38;5;28;01mimport\u001b[39;00m \u001b[38;5;21;01mtorch\u001b[39;00m\n\u001b[1;32m      8\u001b[0m \u001b[38;5;28;01mimport\u001b[39;00m \u001b[38;5;21;01mutils\u001b[39;00m\n",
      "\u001b[0;31mModuleNotFoundError\u001b[0m: No module named 'pycocotools'"
     ]
    }
   ],
   "source": [
    "from sklearn.model_selection import train_test_split\n",
    "from bcnet import get_bcnet\n",
    "from train_eval_utils import hocv_model\n",
    "\n",
    "train_indices, test_indices = train_test_split(range(100), test_size=0.2, random_state=42)\n",
    "\n",
    "#frcnn = get_bcnet('frcnn', 2)\n",
    "#hocv_model(frcnn, 'data')"
   ]
  },
  {
   "cell_type": "code",
   "execution_count": null,
   "id": "417b5060-1313-4bce-be1e-0c809a751e25",
   "metadata": {},
   "outputs": [],
   "source": []
  }
 ],
 "metadata": {
  "kernelspec": {
   "display_name": "Python 3 (ipykernel)",
   "language": "python",
   "name": "python3"
  },
  "language_info": {
   "codemirror_mode": {
    "name": "ipython",
    "version": 3
   },
   "file_extension": ".py",
   "mimetype": "text/x-python",
   "name": "python",
   "nbconvert_exporter": "python",
   "pygments_lexer": "ipython3",
   "version": "3.9.12"
  }
 },
 "nbformat": 4,
 "nbformat_minor": 5
}
