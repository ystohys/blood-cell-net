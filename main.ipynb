{
 "cells": [
  {
   "cell_type": "markdown",
   "id": "22efb04e-cb43-4bca-9ac9-bc40915e4f8e",
   "metadata": {},
   "source": [
    "### Data"
   ]
  },
  {
   "cell_type": "code",
   "execution_count": null,
   "id": "d4a7ef9d",
   "metadata": {},
   "outputs": [],
   "source": [
    "!pip3 install pycocotools"
   ]
  },
  {
   "cell_type": "code",
   "execution_count": null,
   "id": "13f375f8-145d-4d1c-96b3-007d74ef19ad",
   "metadata": {},
   "outputs": [],
   "source": [
    "import numpy as np\n",
    "import pandas as pd\n",
    "import data_utils\n",
    "import img_utils"
   ]
  },
  {
   "cell_type": "code",
   "execution_count": null,
   "id": "13de163b",
   "metadata": {},
   "outputs": [],
   "source": [
    "#!unzip data.zip -d /storage"
   ]
  },
  {
   "cell_type": "markdown",
   "id": "7008f50a-d7cb-4185-9293-72aa7e2ff62d",
   "metadata": {},
   "source": [
    "Reading in 'annotations.csv' and checking for duplicates, followed by dropping them:"
   ]
  },
  {
   "cell_type": "code",
   "execution_count": null,
   "id": "33b017e5-322c-42fe-b5f4-39f1f705f1ee",
   "metadata": {},
   "outputs": [],
   "source": [
    "anno_df = pd.read_csv('data/annotations.csv')\n",
    "dup_df = data_utils.get_duplicates(anno_df)\n",
    "to_drop=[dup_df.loc[(dup_df['image']=='image-1.png') & (dup_df['label']=='rbc'),:].index[0]]\n",
    "to_drop.append(dup_df.loc[(dup_df['image']=='image-100.png') & (dup_df['label']=='wbc'),:].index[0])\n",
    "to_drop.append(dup_df.loc[(dup_df['image']=='image-104.png') & (dup_df['label']=='wbc'),:].index[0])\n",
    "to_drop.append(dup_df.loc[(dup_df['image']=='image-114.png') & (dup_df['label']=='wbc'),:].index[0])\n",
    "clean_anno_df = anno_df.drop(to_drop)\n",
    "clean_anno_df['label'] = np.where(clean_anno_df['label']=='rbc', 1, 2)\n",
    "clean_anno_df.to_csv('data/clean_anno.csv', index=False)"
   ]
  },
  {
   "cell_type": "markdown",
   "id": "94ffc88b-4156-4328-94f7-61485ee57c71",
   "metadata": {},
   "source": [
    "Visualizing the distribution of RBCs to WBCs across all the images"
   ]
  },
  {
   "cell_type": "code",
   "execution_count": null,
   "id": "72571912-cfed-4ba3-ad2c-7a06ff693f2b",
   "metadata": {},
   "outputs": [],
   "source": [
    "import numpy as np\n",
    "import matplotlib.pyplot as plt\n",
    "\n",
    "data_utils.get_class_distribution('data/clean_anno.csv', ['image','label'])"
   ]
  },
  {
   "cell_type": "code",
   "execution_count": null,
   "id": "80296376-7dcd-4c77-92e8-2e960d88452f",
   "metadata": {},
   "outputs": [],
   "source": [
    "from sklearn.model_selection import train_test_split\n",
    "from bcnet import get_bcnet\n",
    "from data_utils import get_transform\n",
    "from train_eval_utils import hocv_model\n",
    "\n",
    "train_indices, test_indices = train_test_split(range(100), test_size=0.2, random_state=42)\n",
    "\n",
    "frcnn = get_bcnet('retina', 3)\n",
    "hocv_model(frcnn, 'data', train_indices, test_indices, get_transform(True), get_transform(False), 20, 2, 0.01)"
   ]
  },
  {
   "cell_type": "code",
   "execution_count": null,
   "id": "417b5060-1313-4bce-be1e-0c809a751e25",
   "metadata": {},
   "outputs": [],
   "source": []
  }
 ],
 "metadata": {
  "kernelspec": {
   "display_name": "Python 3.9.12 ('bcd_env')",
   "language": "python",
   "name": "python3"
  },
  "language_info": {
   "codemirror_mode": {
    "name": "ipython",
    "version": 3
   },
   "file_extension": ".py",
   "mimetype": "text/x-python",
   "name": "python",
   "nbconvert_exporter": "python",
   "pygments_lexer": "ipython3",
   "version": "3.9.12"
  },
  "vscode": {
   "interpreter": {
    "hash": "1af91074378ab68225538e9ce9f99ca45d51a32dcb54e233cb8e1bb90701db83"
   }
  }
 },
 "nbformat": 4,
 "nbformat_minor": 5
}
